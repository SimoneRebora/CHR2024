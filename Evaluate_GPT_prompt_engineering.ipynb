{
  "nbformat": 4,
  "nbformat_minor": 0,
  "metadata": {
    "colab": {
      "provenance": []
    },
    "kernelspec": {
      "name": "python3",
      "display_name": "Python 3"
    },
    "language_info": {
      "name": "python"
    }
  },
  "cells": [
    {
      "cell_type": "markdown",
      "source": [
        "# Preparation"
      ],
      "metadata": {
        "id": "0zO4iKPp08aR"
      }
    },
    {
      "cell_type": "code",
      "execution_count": null,
      "metadata": {
        "id": "zZiBQe1giGlR",
        "colab": {
          "base_uri": "https://localhost:8080/"
        },
        "outputId": "18228fab-5439-4a6f-8bef-1df297ba44f6"
      },
      "outputs": [
        {
          "output_type": "stream",
          "name": "stdout",
          "text": [
            "Mounted at /content/drive\n"
          ]
        }
      ],
      "source": [
        "# Import necessary packages\n",
        "import pandas as pd\n",
        "from sklearn.metrics import classification_report\n",
        "\n",
        "# Mount Drive\n",
        "from google.colab import drive\n",
        "drive.mount('/content/drive')"
      ]
    },
    {
      "cell_type": "markdown",
      "source": [
        "Read GPT annotations for one prompting strategy."
      ],
      "metadata": {
        "id": "Ex4SoAwq1Y49"
      }
    },
    {
      "cell_type": "code",
      "source": [
        "my_prompt = 'complex_three_classes'\n",
        "\n",
        "GPT_df = pd.read_excel('/content/drive/MyDrive/CHR2024/GPT_results/GPT_test_GPT4_prompt_'+my_prompt+'.xlsx', index_col=0)\n",
        "curated_df = pd.read_excel('/content/drive/MyDrive/CHR2024/Curation/GPT_test.xlsx')\n",
        "curated_df.rename(columns={\"curation\": \"label\"}, inplace=True)\n",
        "\n",
        "full_df = GPT_df\n",
        "full_df['curation'] = curated_df['label'].tolist()"
      ],
      "metadata": {
        "id": "xr1oMdn103dR"
      },
      "execution_count": null,
      "outputs": []
    },
    {
      "cell_type": "markdown",
      "source": [
        "Define functions."
      ],
      "metadata": {
        "id": "GX2BwA0B1fEq"
      }
    },
    {
      "cell_type": "code",
      "source": [
        "def label_maker(x):\n",
        "  if 'ind' in x:\n",
        "    return 'eval_individual'\n",
        "  elif x == 'generic_val' or x == 'social' or x == 'aesthetic':\n",
        "    return 'eval_generic'\n",
        "  else:\n",
        "    return x\n",
        "\n",
        "\n",
        "def label_maker_binary(x):\n",
        "  if x != 'no_val':\n",
        "    return 'val'\n",
        "  else:\n",
        "    return x"
      ],
      "metadata": {
        "id": "BrJ_vWcW1oey"
      },
      "execution_count": null,
      "outputs": []
    },
    {
      "cell_type": "markdown",
      "source": [
        "Print classification reports (with post-hoc label mappings)."
      ],
      "metadata": {
        "id": "_G5Gor751pVm"
      }
    },
    {
      "cell_type": "code",
      "source": [
        "gpt_annotations = GPT_df['label']\n",
        "curation_annotations = curated_df['label']\n",
        "\n",
        "print(\"All labels:\")\n",
        "print(classification_report(curation_annotations,\n",
        "                            gpt_annotations, digits=3))\n",
        "\n",
        "print(\"Three classes:\")\n",
        "gpt_annotations = gpt_annotations.map(label_maker)\n",
        "curation_annotations = curation_annotations.map(label_maker)\n",
        "print(classification_report(curation_annotations,\n",
        "                            gpt_annotations, digits=3))\n",
        "\n",
        "print(\"Binary:\")\n",
        "gpt_annotations = gpt_annotations.map(label_maker_binary)\n",
        "curation_annotations = curation_annotations.map(label_maker_binary)\n",
        "print(classification_report(curation_annotations,\n",
        "                            gpt_annotations, digits=3))\n"
      ],
      "metadata": {
        "id": "0GeL1D-e2kTq",
        "colab": {
          "base_uri": "https://localhost:8080/"
        },
        "outputId": "dd7879a1-219b-4cf9-ed95-d6911252c587"
      },
      "execution_count": null,
      "outputs": [
        {
          "output_type": "stream",
          "name": "stdout",
          "text": [
            "All labels:\n",
            "                 precision    recall  f1-score   support\n",
            "\n",
            "      aesthetic      0.000     0.000     0.000       131\n",
            "   eval_generic      0.000     0.000     0.000         0\n",
            "eval_individual      0.000     0.000     0.000         0\n",
            "    generic_val      0.000     0.000     0.000       108\n",
            "  ind_cognitive      0.000     0.000     0.000        15\n",
            "  ind_emotional      0.000     0.000     0.000        75\n",
            "  ind_pragmatic      0.000     0.000     0.000        15\n",
            "         no_val      0.976     0.761     0.855       854\n",
            "         social      0.000     0.000     0.000         5\n",
            "\n",
            "       accuracy                          0.540      1203\n",
            "      macro avg      0.108     0.085     0.095      1203\n",
            "   weighted avg      0.693     0.540     0.607      1203\n",
            "\n",
            "Three classes:\n",
            "                 precision    recall  f1-score   support\n",
            "\n",
            "   eval_generic      0.535     0.816     0.646       244\n",
            "eval_individual      0.412     0.648     0.504       105\n",
            "         no_val      0.976     0.761     0.855       854\n",
            "\n",
            "       accuracy                          0.762      1203\n",
            "      macro avg      0.641     0.741     0.668      1203\n",
            "   weighted avg      0.837     0.762     0.782      1203\n",
            "\n",
            "Binary:\n",
            "              precision    recall  f1-score   support\n",
            "\n",
            "      no_val      0.976     0.761     0.855       854\n",
            "         val      0.620     0.954     0.752       349\n",
            "\n",
            "    accuracy                          0.817      1203\n",
            "   macro avg      0.798     0.858     0.803      1203\n",
            "weighted avg      0.873     0.817     0.825      1203\n",
            "\n"
          ]
        },
        {
          "output_type": "stream",
          "name": "stderr",
          "text": [
            "/usr/local/lib/python3.10/dist-packages/sklearn/metrics/_classification.py:1471: UndefinedMetricWarning: Precision and F-score are ill-defined and being set to 0.0 in labels with no predicted samples. Use `zero_division` parameter to control this behavior.\n",
            "  _warn_prf(average, modifier, msg_start, len(result))\n",
            "/usr/local/lib/python3.10/dist-packages/sklearn/metrics/_classification.py:1471: UndefinedMetricWarning: Recall and F-score are ill-defined and being set to 0.0 in labels with no true samples. Use `zero_division` parameter to control this behavior.\n",
            "  _warn_prf(average, modifier, msg_start, len(result))\n",
            "/usr/local/lib/python3.10/dist-packages/sklearn/metrics/_classification.py:1471: UndefinedMetricWarning: Precision and F-score are ill-defined and being set to 0.0 in labels with no predicted samples. Use `zero_division` parameter to control this behavior.\n",
            "  _warn_prf(average, modifier, msg_start, len(result))\n",
            "/usr/local/lib/python3.10/dist-packages/sklearn/metrics/_classification.py:1471: UndefinedMetricWarning: Recall and F-score are ill-defined and being set to 0.0 in labels with no true samples. Use `zero_division` parameter to control this behavior.\n",
            "  _warn_prf(average, modifier, msg_start, len(result))\n",
            "/usr/local/lib/python3.10/dist-packages/sklearn/metrics/_classification.py:1471: UndefinedMetricWarning: Precision and F-score are ill-defined and being set to 0.0 in labels with no predicted samples. Use `zero_division` parameter to control this behavior.\n",
            "  _warn_prf(average, modifier, msg_start, len(result))\n",
            "/usr/local/lib/python3.10/dist-packages/sklearn/metrics/_classification.py:1471: UndefinedMetricWarning: Recall and F-score are ill-defined and being set to 0.0 in labels with no true samples. Use `zero_division` parameter to control this behavior.\n",
            "  _warn_prf(average, modifier, msg_start, len(result))\n"
          ]
        }
      ]
    },
    {
      "cell_type": "markdown",
      "source": [
        "Print overall comparison of F1-macro scores (for all prompting strategies)."
      ],
      "metadata": {
        "id": "SbyyfIjK15p9"
      }
    },
    {
      "cell_type": "code",
      "source": [
        "from sklearn.metrics import f1_score\n",
        "\n",
        "my_strategies = ['complex', 'simple', 'procedural']\n",
        "my_simplifications = ['full', 'three_classes', 'binary']\n",
        "\n",
        "full = list()\n",
        "full_3class = list()\n",
        "full_2class = list()\n",
        "three_classes_3class = list()\n",
        "three_classes_2class = list()\n",
        "binary_2class = list()\n",
        "\n",
        "for my_strategy in my_strategies:\n",
        "  for my_simplification in my_simplifications:\n",
        "    my_prompt =  my_strategy + '_' + my_simplification\n",
        "\n",
        "    GPT_df = pd.read_excel('/content/drive/MyDrive/CHR2024/GPT_results/GPT_test_GPT4_prompt_'+my_prompt+'.xlsx', index_col=0)\n",
        "    curated_df = pd.read_excel('/content/drive/MyDrive/CHR2024/Curation/GPT_test.xlsx')\n",
        "    curated_df.rename(columns={\"curation\": \"label\"}, inplace=True)\n",
        "\n",
        "    gpt_annotations = GPT_df['label']\n",
        "    curation_annotations = curated_df['label']\n",
        "\n",
        "    if my_simplification == 'full':\n",
        "\n",
        "      full.append(f1_score(curation_annotations, gpt_annotations, average='macro'))\n",
        "\n",
        "      gpt_annotations = gpt_annotations.map(label_maker)\n",
        "      curation_annotations = curation_annotations.map(label_maker)\n",
        "\n",
        "      full_3class.append(f1_score(curation_annotations, gpt_annotations, average='macro'))\n",
        "\n",
        "      gpt_annotations = gpt_annotations.map(label_maker_binary)\n",
        "      curation_annotations = curation_annotations.map(label_maker_binary)\n",
        "\n",
        "      full_2class.append(f1_score(curation_annotations, gpt_annotations, average='macro'))\n",
        "\n",
        "    if my_simplification == 'three_classes':\n",
        "\n",
        "      gpt_annotations = gpt_annotations.map(label_maker)\n",
        "      curation_annotations = curation_annotations.map(label_maker)\n",
        "\n",
        "      three_classes_3class.append(f1_score(curation_annotations, gpt_annotations, average='macro'))\n",
        "\n",
        "      gpt_annotations = gpt_annotations.map(label_maker_binary)\n",
        "      curation_annotations = curation_annotations.map(label_maker_binary)\n",
        "\n",
        "      three_classes_2class.append(f1_score(curation_annotations, gpt_annotations, average='macro'))\n",
        "\n",
        "    if my_simplification == 'binary':\n",
        "\n",
        "      gpt_annotations = gpt_annotations.map(label_maker_binary)\n",
        "      curation_annotations = curation_annotations.map(label_maker_binary)\n",
        "\n",
        "      binary_2class.append(f1_score(curation_annotations, gpt_annotations, average='macro'))\n",
        "\n",
        "\n",
        "results_df = pd.DataFrame({'full':full, 'full_3':full_3class, 'full_2':full_2class, 'three_classes_3':three_classes_3class, 'three_classes_2':three_classes_2class, 'binary_2':binary_2class})\n",
        "results_df.index = my_strategies\n",
        "\n",
        "results_df"
      ],
      "metadata": {
        "colab": {
          "base_uri": "https://localhost:8080/",
          "height": 143
        },
        "id": "jiYYHb3gckgS",
        "outputId": "86c94bd0-3a4d-4554-fc60-a0741acbb7d4"
      },
      "execution_count": null,
      "outputs": [
        {
          "output_type": "execute_result",
          "data": {
            "text/plain": [
              "                full    full_3    full_2  three_classes_3  three_classes_2  \\\n",
              "complex     0.424565  0.633575  0.758039         0.668357         0.803478   \n",
              "simple      0.335887  0.531353  0.717034         0.629608         0.800735   \n",
              "procedural  0.386123  0.674531  0.797112         0.641045         0.807307   \n",
              "\n",
              "            binary_2  \n",
              "complex     0.824839  \n",
              "simple      0.779271  \n",
              "procedural  0.803318  "
            ],
            "text/html": [
              "\n",
              "  <div id=\"df-eb634bd5-4a40-4155-a3b6-624bbf974a41\" class=\"colab-df-container\">\n",
              "    <div>\n",
              "<style scoped>\n",
              "    .dataframe tbody tr th:only-of-type {\n",
              "        vertical-align: middle;\n",
              "    }\n",
              "\n",
              "    .dataframe tbody tr th {\n",
              "        vertical-align: top;\n",
              "    }\n",
              "\n",
              "    .dataframe thead th {\n",
              "        text-align: right;\n",
              "    }\n",
              "</style>\n",
              "<table border=\"1\" class=\"dataframe\">\n",
              "  <thead>\n",
              "    <tr style=\"text-align: right;\">\n",
              "      <th></th>\n",
              "      <th>full</th>\n",
              "      <th>full_3</th>\n",
              "      <th>full_2</th>\n",
              "      <th>three_classes_3</th>\n",
              "      <th>three_classes_2</th>\n",
              "      <th>binary_2</th>\n",
              "    </tr>\n",
              "  </thead>\n",
              "  <tbody>\n",
              "    <tr>\n",
              "      <th>complex</th>\n",
              "      <td>0.424565</td>\n",
              "      <td>0.633575</td>\n",
              "      <td>0.758039</td>\n",
              "      <td>0.668357</td>\n",
              "      <td>0.803478</td>\n",
              "      <td>0.824839</td>\n",
              "    </tr>\n",
              "    <tr>\n",
              "      <th>simple</th>\n",
              "      <td>0.335887</td>\n",
              "      <td>0.531353</td>\n",
              "      <td>0.717034</td>\n",
              "      <td>0.629608</td>\n",
              "      <td>0.800735</td>\n",
              "      <td>0.779271</td>\n",
              "    </tr>\n",
              "    <tr>\n",
              "      <th>procedural</th>\n",
              "      <td>0.386123</td>\n",
              "      <td>0.674531</td>\n",
              "      <td>0.797112</td>\n",
              "      <td>0.641045</td>\n",
              "      <td>0.807307</td>\n",
              "      <td>0.803318</td>\n",
              "    </tr>\n",
              "  </tbody>\n",
              "</table>\n",
              "</div>\n",
              "    <div class=\"colab-df-buttons\">\n",
              "\n",
              "  <div class=\"colab-df-container\">\n",
              "    <button class=\"colab-df-convert\" onclick=\"convertToInteractive('df-eb634bd5-4a40-4155-a3b6-624bbf974a41')\"\n",
              "            title=\"Convert this dataframe to an interactive table.\"\n",
              "            style=\"display:none;\">\n",
              "\n",
              "  <svg xmlns=\"http://www.w3.org/2000/svg\" height=\"24px\" viewBox=\"0 -960 960 960\">\n",
              "    <path d=\"M120-120v-720h720v720H120Zm60-500h600v-160H180v160Zm220 220h160v-160H400v160Zm0 220h160v-160H400v160ZM180-400h160v-160H180v160Zm440 0h160v-160H620v160ZM180-180h160v-160H180v160Zm440 0h160v-160H620v160Z\"/>\n",
              "  </svg>\n",
              "    </button>\n",
              "\n",
              "  <style>\n",
              "    .colab-df-container {\n",
              "      display:flex;\n",
              "      gap: 12px;\n",
              "    }\n",
              "\n",
              "    .colab-df-convert {\n",
              "      background-color: #E8F0FE;\n",
              "      border: none;\n",
              "      border-radius: 50%;\n",
              "      cursor: pointer;\n",
              "      display: none;\n",
              "      fill: #1967D2;\n",
              "      height: 32px;\n",
              "      padding: 0 0 0 0;\n",
              "      width: 32px;\n",
              "    }\n",
              "\n",
              "    .colab-df-convert:hover {\n",
              "      background-color: #E2EBFA;\n",
              "      box-shadow: 0px 1px 2px rgba(60, 64, 67, 0.3), 0px 1px 3px 1px rgba(60, 64, 67, 0.15);\n",
              "      fill: #174EA6;\n",
              "    }\n",
              "\n",
              "    .colab-df-buttons div {\n",
              "      margin-bottom: 4px;\n",
              "    }\n",
              "\n",
              "    [theme=dark] .colab-df-convert {\n",
              "      background-color: #3B4455;\n",
              "      fill: #D2E3FC;\n",
              "    }\n",
              "\n",
              "    [theme=dark] .colab-df-convert:hover {\n",
              "      background-color: #434B5C;\n",
              "      box-shadow: 0px 1px 3px 1px rgba(0, 0, 0, 0.15);\n",
              "      filter: drop-shadow(0px 1px 2px rgba(0, 0, 0, 0.3));\n",
              "      fill: #FFFFFF;\n",
              "    }\n",
              "  </style>\n",
              "\n",
              "    <script>\n",
              "      const buttonEl =\n",
              "        document.querySelector('#df-eb634bd5-4a40-4155-a3b6-624bbf974a41 button.colab-df-convert');\n",
              "      buttonEl.style.display =\n",
              "        google.colab.kernel.accessAllowed ? 'block' : 'none';\n",
              "\n",
              "      async function convertToInteractive(key) {\n",
              "        const element = document.querySelector('#df-eb634bd5-4a40-4155-a3b6-624bbf974a41');\n",
              "        const dataTable =\n",
              "          await google.colab.kernel.invokeFunction('convertToInteractive',\n",
              "                                                    [key], {});\n",
              "        if (!dataTable) return;\n",
              "\n",
              "        const docLinkHtml = 'Like what you see? Visit the ' +\n",
              "          '<a target=\"_blank\" href=https://colab.research.google.com/notebooks/data_table.ipynb>data table notebook</a>'\n",
              "          + ' to learn more about interactive tables.';\n",
              "        element.innerHTML = '';\n",
              "        dataTable['output_type'] = 'display_data';\n",
              "        await google.colab.output.renderOutput(dataTable, element);\n",
              "        const docLink = document.createElement('div');\n",
              "        docLink.innerHTML = docLinkHtml;\n",
              "        element.appendChild(docLink);\n",
              "      }\n",
              "    </script>\n",
              "  </div>\n",
              "\n",
              "\n",
              "<div id=\"df-01630313-a5ef-4de3-9c28-8a27fc39d37b\">\n",
              "  <button class=\"colab-df-quickchart\" onclick=\"quickchart('df-01630313-a5ef-4de3-9c28-8a27fc39d37b')\"\n",
              "            title=\"Suggest charts\"\n",
              "            style=\"display:none;\">\n",
              "\n",
              "<svg xmlns=\"http://www.w3.org/2000/svg\" height=\"24px\"viewBox=\"0 0 24 24\"\n",
              "     width=\"24px\">\n",
              "    <g>\n",
              "        <path d=\"M19 3H5c-1.1 0-2 .9-2 2v14c0 1.1.9 2 2 2h14c1.1 0 2-.9 2-2V5c0-1.1-.9-2-2-2zM9 17H7v-7h2v7zm4 0h-2V7h2v10zm4 0h-2v-4h2v4z\"/>\n",
              "    </g>\n",
              "</svg>\n",
              "  </button>\n",
              "\n",
              "<style>\n",
              "  .colab-df-quickchart {\n",
              "      --bg-color: #E8F0FE;\n",
              "      --fill-color: #1967D2;\n",
              "      --hover-bg-color: #E2EBFA;\n",
              "      --hover-fill-color: #174EA6;\n",
              "      --disabled-fill-color: #AAA;\n",
              "      --disabled-bg-color: #DDD;\n",
              "  }\n",
              "\n",
              "  [theme=dark] .colab-df-quickchart {\n",
              "      --bg-color: #3B4455;\n",
              "      --fill-color: #D2E3FC;\n",
              "      --hover-bg-color: #434B5C;\n",
              "      --hover-fill-color: #FFFFFF;\n",
              "      --disabled-bg-color: #3B4455;\n",
              "      --disabled-fill-color: #666;\n",
              "  }\n",
              "\n",
              "  .colab-df-quickchart {\n",
              "    background-color: var(--bg-color);\n",
              "    border: none;\n",
              "    border-radius: 50%;\n",
              "    cursor: pointer;\n",
              "    display: none;\n",
              "    fill: var(--fill-color);\n",
              "    height: 32px;\n",
              "    padding: 0;\n",
              "    width: 32px;\n",
              "  }\n",
              "\n",
              "  .colab-df-quickchart:hover {\n",
              "    background-color: var(--hover-bg-color);\n",
              "    box-shadow: 0 1px 2px rgba(60, 64, 67, 0.3), 0 1px 3px 1px rgba(60, 64, 67, 0.15);\n",
              "    fill: var(--button-hover-fill-color);\n",
              "  }\n",
              "\n",
              "  .colab-df-quickchart-complete:disabled,\n",
              "  .colab-df-quickchart-complete:disabled:hover {\n",
              "    background-color: var(--disabled-bg-color);\n",
              "    fill: var(--disabled-fill-color);\n",
              "    box-shadow: none;\n",
              "  }\n",
              "\n",
              "  .colab-df-spinner {\n",
              "    border: 2px solid var(--fill-color);\n",
              "    border-color: transparent;\n",
              "    border-bottom-color: var(--fill-color);\n",
              "    animation:\n",
              "      spin 1s steps(1) infinite;\n",
              "  }\n",
              "\n",
              "  @keyframes spin {\n",
              "    0% {\n",
              "      border-color: transparent;\n",
              "      border-bottom-color: var(--fill-color);\n",
              "      border-left-color: var(--fill-color);\n",
              "    }\n",
              "    20% {\n",
              "      border-color: transparent;\n",
              "      border-left-color: var(--fill-color);\n",
              "      border-top-color: var(--fill-color);\n",
              "    }\n",
              "    30% {\n",
              "      border-color: transparent;\n",
              "      border-left-color: var(--fill-color);\n",
              "      border-top-color: var(--fill-color);\n",
              "      border-right-color: var(--fill-color);\n",
              "    }\n",
              "    40% {\n",
              "      border-color: transparent;\n",
              "      border-right-color: var(--fill-color);\n",
              "      border-top-color: var(--fill-color);\n",
              "    }\n",
              "    60% {\n",
              "      border-color: transparent;\n",
              "      border-right-color: var(--fill-color);\n",
              "    }\n",
              "    80% {\n",
              "      border-color: transparent;\n",
              "      border-right-color: var(--fill-color);\n",
              "      border-bottom-color: var(--fill-color);\n",
              "    }\n",
              "    90% {\n",
              "      border-color: transparent;\n",
              "      border-bottom-color: var(--fill-color);\n",
              "    }\n",
              "  }\n",
              "</style>\n",
              "\n",
              "  <script>\n",
              "    async function quickchart(key) {\n",
              "      const quickchartButtonEl =\n",
              "        document.querySelector('#' + key + ' button');\n",
              "      quickchartButtonEl.disabled = true;  // To prevent multiple clicks.\n",
              "      quickchartButtonEl.classList.add('colab-df-spinner');\n",
              "      try {\n",
              "        const charts = await google.colab.kernel.invokeFunction(\n",
              "            'suggestCharts', [key], {});\n",
              "      } catch (error) {\n",
              "        console.error('Error during call to suggestCharts:', error);\n",
              "      }\n",
              "      quickchartButtonEl.classList.remove('colab-df-spinner');\n",
              "      quickchartButtonEl.classList.add('colab-df-quickchart-complete');\n",
              "    }\n",
              "    (() => {\n",
              "      let quickchartButtonEl =\n",
              "        document.querySelector('#df-01630313-a5ef-4de3-9c28-8a27fc39d37b button');\n",
              "      quickchartButtonEl.style.display =\n",
              "        google.colab.kernel.accessAllowed ? 'block' : 'none';\n",
              "    })();\n",
              "  </script>\n",
              "</div>\n",
              "    </div>\n",
              "  </div>\n"
            ],
            "application/vnd.google.colaboratory.intrinsic+json": {
              "type": "dataframe",
              "variable_name": "results_df",
              "summary": "{\n  \"name\": \"results_df\",\n  \"rows\": 3,\n  \"fields\": [\n    {\n      \"column\": \"full\",\n      \"properties\": {\n        \"dtype\": \"number\",\n        \"std\": 0.04446981857551069,\n        \"min\": 0.3358865479196488,\n        \"max\": 0.42456510549847276,\n        \"num_unique_values\": 3,\n        \"samples\": [\n          0.42456510549847276,\n          0.3358865479196488,\n          0.3861232296731548\n        ],\n        \"semantic_type\": \"\",\n        \"description\": \"\"\n      }\n    },\n    {\n      \"column\": \"full_3\",\n      \"properties\": {\n        \"dtype\": \"number\",\n        \"std\": 0.07374093552159759,\n        \"min\": 0.5313533546783725,\n        \"max\": 0.6745305770887167,\n        \"num_unique_values\": 3,\n        \"samples\": [\n          0.633575100753247,\n          0.5313533546783725,\n          0.6745305770887167\n        ],\n        \"semantic_type\": \"\",\n        \"description\": \"\"\n      }\n    },\n    {\n      \"column\": \"full_2\",\n      \"properties\": {\n        \"dtype\": \"number\",\n        \"std\": 0.040043360129138277,\n        \"min\": 0.7170335039073799,\n        \"max\": 0.797112448275239,\n        \"num_unique_values\": 3,\n        \"samples\": [\n          0.7580394506086021,\n          0.7170335039073799,\n          0.797112448275239\n        ],\n        \"semantic_type\": \"\",\n        \"description\": \"\"\n      }\n    },\n    {\n      \"column\": \"three_classes_3\",\n      \"properties\": {\n        \"dtype\": \"number\",\n        \"std\": 0.019909043834228445,\n        \"min\": 0.6296079594733205,\n        \"max\": 0.6683569192341122,\n        \"num_unique_values\": 3,\n        \"samples\": [\n          0.6683569192341122,\n          0.6296079594733205,\n          0.6410452693749332\n        ],\n        \"semantic_type\": \"\",\n        \"description\": \"\"\n      }\n    },\n    {\n      \"column\": \"three_classes_2\",\n      \"properties\": {\n        \"dtype\": \"number\",\n        \"std\": 0.0033006182499635208,\n        \"min\": 0.800735440270324,\n        \"max\": 0.8073068262946894,\n        \"num_unique_values\": 3,\n        \"samples\": [\n          0.8034780800760366,\n          0.800735440270324,\n          0.8073068262946894\n        ],\n        \"semantic_type\": \"\",\n        \"description\": \"\"\n      }\n    },\n    {\n      \"column\": \"binary_2\",\n      \"properties\": {\n        \"dtype\": \"number\",\n        \"std\": 0.0227960890565833,\n        \"min\": 0.7792705911364758,\n        \"max\": 0.8248394363405589,\n        \"num_unique_values\": 3,\n        \"samples\": [\n          0.8248394363405589,\n          0.7792705911364758,\n          0.803318061204674\n        ],\n        \"semantic_type\": \"\",\n        \"description\": \"\"\n      }\n    }\n  ]\n}"
            }
          },
          "metadata": {},
          "execution_count": 4
        }
      ]
    },
    {
      "cell_type": "markdown",
      "source": [
        "## Few shot strategy"
      ],
      "metadata": {
        "id": "Bp7w8EDwak6X"
      }
    },
    {
      "cell_type": "markdown",
      "source": [
        "Read GPT annotations for one few-shot prompting strategy."
      ],
      "metadata": {
        "id": "fU5hHKjp2Ro0"
      }
    },
    {
      "cell_type": "code",
      "source": [
        "my_shots = 8\n",
        "my_prompt = 'complex_binary'\n",
        "\n",
        "GPT_df = pd.read_excel('/content/drive/MyDrive/CHR2024/GPT_results/fewshot_'+str(my_shots)+'_GPT_test_GPT4_prompt_'+my_prompt+'.xlsx', index_col=0)\n",
        "curated_df = pd.read_excel('/content/drive/MyDrive/CHR2024/Curation/GPT_test.xlsx')\n",
        "curated_df.rename(columns={\"curation\": \"label\"}, inplace=True)\n",
        "\n",
        "full_df = GPT_df\n",
        "full_df['curation'] = curated_df['label'].tolist()"
      ],
      "metadata": {
        "id": "m5AV8JySaolQ"
      },
      "execution_count": null,
      "outputs": []
    },
    {
      "cell_type": "markdown",
      "source": [
        "Print classification report."
      ],
      "metadata": {
        "id": "-VFXQKEH2dtx"
      }
    },
    {
      "cell_type": "code",
      "source": [
        "gpt_annotations = GPT_df['label']\n",
        "curation_annotations = curated_df['label']\n",
        "\n",
        "gpt_annotations = gpt_annotations.map(label_maker_binary)\n",
        "curation_annotations = curation_annotations.map(label_maker_binary)\n",
        "print(classification_report(curation_annotations,\n",
        "                            gpt_annotations, digits=3))"
      ],
      "metadata": {
        "colab": {
          "base_uri": "https://localhost:8080/"
        },
        "id": "1tZriDkybDIC",
        "outputId": "9f78d1d2-0a78-48eb-9c40-800df9d4a665"
      },
      "execution_count": null,
      "outputs": [
        {
          "output_type": "stream",
          "name": "stdout",
          "text": [
            "              precision    recall  f1-score   support\n",
            "\n",
            "      no_val      0.956     0.657     0.779       854\n",
            "         val      0.524     0.926     0.669       349\n",
            "\n",
            "    accuracy                          0.735      1203\n",
            "   macro avg      0.740     0.791     0.724      1203\n",
            "weighted avg      0.831     0.735     0.747      1203\n",
            "\n"
          ]
        }
      ]
    }
  ]
}